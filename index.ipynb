{
 "cells": [
  {
   "cell_type": "markdown",
   "metadata": {
    "slideshow": {
     "slide_type": "slide"
    }
   },
   "source": [
    "# Reliable Sequence Annotations\n",
    "\n",
    "Speaker: Jonas Molina Ramirez\n",
    "    \n",
    "Date: 14th Nov 2019"
   ]
  },
  {
   "cell_type": "markdown",
   "metadata": {
    "slideshow": {
     "slide_type": "subslide"
    }
   },
   "source": [
    "# Content\n",
    "\n",
    "1. Annotation processes\n",
    "2. Active learning with Bayesian Sequence Combination (SiGu, 2019)\n",
    "  - Annotator models\n",
    "  - Bayesian Sequence Combination (BSC)\n",
    "  - Experiments\n",
    "3. Iterative reliability testing (Artstein, 2017)\n",
    "  - Rationale\n",
    "  - Measures\n",
    "  - Problems\n",
    "4. Summary"
   ]
  },
  {
   "cell_type": "markdown",
   "metadata": {
    "slideshow": {
     "slide_type": "subslide"
    }
   },
   "source": [
    "# Literature\n",
    "\n",
    "(Artstein, 2017): Artstein. Inter-annotator agreement. http://artstein.org/publications/inter-annotator-preprint.pdf, 2017.\n",
    "        \n",
    "(SiGu, 2019): Simpson and Gurevych. A Bayesian Approach for Sequence Tagging with Crowds. In EMNLP 2019.\n"
   ]
  },
  {
   "cell_type": "markdown",
   "metadata": {
    "slideshow": {
     "slide_type": "slide"
    }
   },
   "source": [
    "# 1. Annotation processes"
   ]
  },
  {
   "cell_type": "markdown",
   "metadata": {
    "slideshow": {
     "slide_type": "subslide"
    }
   },
   "source": [
    "# Goal of annotation process\n",
    "\n",
    "- Find reliable labels for tokens in documents\n",
    "- Here: BIO scheme\n",
    "  - Begin\n",
    "  - Inside\n",
    "  - Outside\n",
    "\n",
    "<img src=\"./img/annotation-process.png\" width=\"300\">"
   ]
  },
  {
   "cell_type": "markdown",
   "metadata": {
    "slideshow": {
     "slide_type": "subslide"
    }
   },
   "source": [
    "# Problem with deep learning approaches: (SiGu, 2019)\n",
    "- Data intensive: ten thousands (and more) labelled documents for training\n",
    "- New tasks/new domains: labelling is time consuming/costly (pay experts)\n",
    "\n",
    "# Solution:\n",
    "- Crowdsourcing: large number of untrained workers annotate documents\n",
    "\n",
    "# New problem:\n",
    "- Multiple sequences of unreliable labels per document\n",
    "- Solve,e.g., via iterative reliability testing/active learning with BSC\n"
   ]
  },
  {
   "cell_type": "markdown",
   "metadata": {
    "slideshow": {
     "slide_type": "skip"
    }
   },
   "source": [
    "# Two iterative approaches to create reliable annotations\n",
    "\n",
    "![title](./img/approaches.png)"
   ]
  },
  {
   "cell_type": "markdown",
   "metadata": {
    "slideshow": {
     "slide_type": "slide"
    }
   },
   "source": [
    "# 2. Active learning with BSC\n",
    "\n",
    "Based on (SiGu, 2019)"
   ]
  },
  {
   "cell_type": "markdown",
   "metadata": {
    "slideshow": {
     "slide_type": "subslide"
    }
   },
   "source": [
    "# Active learning with BSC\n",
    "\n",
    "![title](./img/active-learning.png)"
   ]
  },
  {
   "cell_type": "markdown",
   "metadata": {
    "slideshow": {
     "slide_type": "subslide"
    }
   },
   "source": [
    "# Recap: Bayes' theorem\n",
    "\n",
    "Likelihood function: $P(B \\mid A)$\n",
    "\n",
    "Prior: $P(A)$\n",
    "\n",
    "Marginal Likelihood: $P(B)$\n",
    "\n",
    "Posterior: $P(A \\mid B)$\n",
    "\n",
    "$ \n",
    "\\begin{align}\n",
    "P(A \\mid B) = \\frac{P(B \\mid A) \\, P(A)}{P(B)} \n",
    "\\end{align}\n",
    "$"
   ]
  },
  {
   "cell_type": "markdown",
   "metadata": {
    "slideshow": {
     "slide_type": "subslide"
    }
   },
   "source": [
    "# Different likelihood functions\n",
    "\n",
    "### Probabilistic annotator models\n",
    "\n",
    "Goal: improve performance through probabilistic model of individual noise/bias\n",
    "\n",
    "Define likelihood function: annotator chooses label $c_\\tau$ given true label $t_\\tau$\n",
    "- $P(c_\\tau \\mid t_\\tau)$\n",
    "\n",
    "Four existing probabilistic annotator models:\n",
    "- Accuracy model (acc) (not covered)\n",
    "- Spamming model (spam) (not covered)\n",
    "- Confusion vector (CV) (not covered)\n",
    "- Confusion matrix (CM)\n",
    "\n",
    "New model:\n",
    "- Sequential confusion matrix (seq)\n"
   ]
  },
  {
   "cell_type": "markdown",
   "metadata": {
    "slideshow": {
     "slide_type": "subslide"
    }
   },
   "source": [
    "# Confusion matrix (CM)\n",
    "\n",
    "Basic idea:\n",
    "- Extension of confusion vector\n",
    "- $J^2$ parameters\n",
    "- Capture spammers\n",
    "- Capture different error rates and biases per class\n",
    "- For each combination of chosen label and true label,\n",
    "  a different penalty/award can be modelled\n",
    "\n",
    "\\begin{align}\n",
    "A = p(c_\\tau = i \\mid t_\\tau = j ,\\pi) = \\pi_{j,i}\n",
    "\\end{align}\n",
    "\n",
    "Problem:\n",
    "- Does not model dependencies within a sequence\n",
    "\n",
    "|   | B | I | O |\n",
    "|---|---|---|---|\n",
    "| B | $\\pi_{B,B}$  | $\\pi_{I,B}$  | $\\pi_{O,B}$  |\n",
    "| I | $\\pi_{B,I}$  | $\\pi_{I,I}$  | $\\pi_{O,I}$  |\n",
    "| O | $\\pi_{B,O}$  | $\\pi_{I,O}$  | $\\pi_{O,O}$  |"
   ]
  },
  {
   "cell_type": "markdown",
   "metadata": {
    "slideshow": {
     "slide_type": "subslide"
    }
   },
   "source": [
    "# Sequential confusion matrix (seq)\n",
    "\n",
    "Basic idea:\n",
    "- Extension of confusion matrix\n",
    "- Includes dependency of a label on its predecessor\n",
    "- $J^3$ parameters\n",
    "- Disallowed transitions: a priori near zero likelihood\n",
    "\n",
    "\\begin{align}\n",
    "A = p(c_\\tau = i \\mid c_{\\tau -1} = l, t_\\tau = j ,\\pi) = \\pi_{j,l,i}\n",
    "\\end{align}\n",
    "\n",
    "\n",
    "Advantages:\n",
    "- Can model tendency towards overly long sequences\n",
    "- Can model tendency to split spans\n"
   ]
  },
  {
   "cell_type": "markdown",
   "metadata": {
    "slideshow": {
     "slide_type": "skip"
    }
   },
   "source": [
    "| B  | B | I | O |\n",
    "|---|---|---|---|\n",
    "| B | $\\pi_{B,B,B}$  | $\\pi_{I,B,B}$  | $\\pi_{O,B,B}$  |\n",
    "| I | $\\pi_{B,B,I}$  | $\\pi_{I,B,I}$  | $\\pi_{O,B,I}$  |\n",
    "| O | $\\pi_{B,B,O}$  | $\\pi_{I,B,O}$  | $\\pi_{O,B,O}$  |\n",
    "\n",
    "| I  | B | I | O |\n",
    "|---|---|---|---|\n",
    "| B | $\\pi_{B,I,B}$  | $\\pi_{I,I,B}$  | $\\color{red}{\\pi_{O,I,B}}$  |\n",
    "| I | $\\pi_{B,I,I}$  | $\\pi_{I,I,I}$  | $\\color{red}{\\pi_{O,I,I}}$  |\n",
    "| O | $\\pi_{B,I,O}$  | $\\pi_{I,I,O}$  | $\\color{red}{\\pi_{O,I,O}}$  |\n",
    "\n",
    "| O | B | I | O |\n",
    "|---|---|---|---|\n",
    "| B | $\\pi_{B,O,B}$  | $\\pi_{I,O,B}$  | $\\pi_{O,O,B}$  |\n",
    "| I | $\\pi_{B,O,I}$  | $\\pi_{I,O,I}$  | $\\pi_{O,O,I}$  |\n",
    "| O | $\\pi_{B,O,O}$  | $\\pi_{I,O,O}$  | $\\pi_{O,O,O}$  |"
   ]
  },
  {
   "cell_type": "markdown",
   "metadata": {
    "slideshow": {
     "slide_type": "subslide"
    }
   },
   "source": [
    "# Bayesisan Sequence Combination\n",
    "\n",
    "Goal: Aggregate sequential annotations from multiple annotators\n",
    "\n",
    "Basic idea: \n",
    "- Combination of HMM and annotator model function\n",
    "- Important assumption: annotators (and their errors) are independent\n",
    "\n",
    "Inference:\n",
    "- Variational Bayes aka. variational inference\n",
    "  - Allows for online-learning, each step updates the model\n",
    "- Conjugate prior for multionmial distribution: Dirichlet distribution\n",
    "- Result: Posterior distribution over true sequence labels\n",
    "  - Not so useful\n",
    "- Better: most probable sequence of labels (Viterbi algorithm)"
   ]
  },
  {
   "cell_type": "markdown",
   "metadata": {
    "slideshow": {
     "slide_type": "subslide"
    }
   },
   "source": [
    "# Active learning with BSC\n",
    "\n",
    "![title](./img/active-learning.png)"
   ]
  },
  {
   "cell_type": "markdown",
   "metadata": {
    "slideshow": {
     "slide_type": "subslide"
    }
   },
   "source": [
    "# Experiments"
   ]
  },
  {
   "cell_type": "markdown",
   "metadata": {
    "slideshow": {
     "slide_type": "subslide"
    }
   },
   "source": [
    "# Datasets\n",
    "\n",
    "All include gold labels and crowdsources labels\n",
    "\n",
    "- NER: named-entity recognition\n",
    "  - Very short spans (often single token)\n",
    "- PICO: medical paper abstracts\n",
    "  - Identify population enrolled in clinical trial\n",
    "- ARG: mixture of argumentative and non-argumentative sentences\n",
    "  - Mark pro/con arguments\n",
    "  - Long spans"
   ]
  },
  {
   "cell_type": "markdown",
   "metadata": {
    "slideshow": {
     "slide_type": "skip"
    }
   },
   "source": [
    "# Evaluation metrics\n",
    "\n",
    "NER and ARG: exact F1-score\n",
    "- only exact span matches are considered correct\n",
    "\n",
    "PICO: relaxed F1-score\n",
    "- count matching fractions of spans when computing precision and recall\n",
    "- partial information useful to identify population\n",
    "\n",
    "Cross Entropy Error (CEE, log-loss):\n",
    "- token-level metrics\n",
    "- penalises over-confident mistakes"
   ]
  },
  {
   "cell_type": "markdown",
   "metadata": {
    "slideshow": {
     "slide_type": "subslide"
    }
   },
   "source": [
    "# Evaluation metrics\n",
    "\n",
    "NER and ARG: exact F1-score\n",
    "- Only exact span matches are considered correct\n",
    "\n",
    "PICO: relaxed F1-score\n",
    "- Count matching fractions of spans when computing precision and recall\n",
    "- Partial information useful to identify population\n",
    "\n",
    "Cross Entropy Error (CEE, log-loss):\n",
    "- Token-level metrics\n",
    "- Penalises over-confident mistakes\n",
    "\n",
    "# Evaluated Methods\n",
    "\n",
    "- MV: token-level majority voting\n",
    "- MACE: spam annotator model\n",
    "- DS: CM model (Dawid-Skene)\n",
    "- IBCC: Independent Bayesian Classifier Combination\n",
    "- HMM-crowd: MAP for CV model and var. inf. for integrated HMM\n",
    "\n"
   ]
  },
  {
   "cell_type": "markdown",
   "metadata": {
    "slideshow": {
     "slide_type": "subslide"
    }
   },
   "source": [
    "# Aggregation results:\n",
    "\n",
    "Task: \n",
    "- Aggregate crowdsourced labels\n",
    "- Predict true labels\n",
    "\n",
    "Compare: \n",
    "- HMM-crowd and BSC-CV\n",
    "- DS and IBCC\n",
    "![title](./img/aggregate-labels.png)\n",
    "\n",
    "(Image taken from SiGu)\n"
   ]
  },
  {
   "cell_type": "markdown",
   "metadata": {
    "slideshow": {
     "slide_type": "subslide"
    }
   },
   "source": [
    "# Contributions of (SiGu, 2019)\n",
    "Bayesian Sequence Combination (BSC)\n",
    "- “fully-Bayesian method for aggregating sequence labels from multiple annotators”\n",
    "\n",
    "Sequential Confusion Matrix (seq)\n",
    "- “model sequential dependencies between annotators’ labels”\n",
    "\n",
    "Theoretical comparison of probabilistic models\n",
    "- annotator noise and annotator bias\n",
    "\n",
    "Empirical evaluation\n",
    "- three sequence labelling tasks\n"
   ]
  },
  {
   "cell_type": "markdown",
   "metadata": {
    "slideshow": {
     "slide_type": "subslide"
    }
   },
   "source": [
    "# Take-away: Active learning with BSC\n",
    "\n",
    "- Different annotator models available\n",
    "- Sequential/non-sequential models (apply depending on the task)\n"
   ]
  },
  {
   "cell_type": "markdown",
   "metadata": {
    "slideshow": {
     "slide_type": "slide"
    }
   },
   "source": [
    "# 3. Iterative reliability testing\n",
    "\n",
    "Based on (Artstein, 2017)\n"
   ]
  },
  {
   "cell_type": "markdown",
   "metadata": {
    "slideshow": {
     "slide_type": "subslide"
    }
   },
   "source": [
    "# Iterative reliability testing\n",
    "\n",
    "Goal:\n",
    "- consistent and reproducible annotation process (which means \"reliable\")\n",
    "\n",
    "How to assess the annotation process?\n",
    "- measure inter-annotator agreement on same source data"
   ]
  },
  {
   "cell_type": "markdown",
   "metadata": {
    "slideshow": {
     "slide_type": "skip"
    }
   },
   "source": [
    "![title](./img/iterative-reliability-testing.png)\n"
   ]
  },
  {
   "cell_type": "markdown",
   "metadata": {
    "slideshow": {
     "slide_type": "subslide"
    }
   },
   "source": [
    "# What's the rationale?\n",
    "\n",
    "Rationale for measuring agreement\n",
    "- Agreement among annotators\n",
    "\n",
    "demonstrates\n",
    "\n",
    "- Reliable annotation process\n",
    "\n",
    "necessary but not sufficient for\n",
    "\n",
    "- Correct annotations\n",
    "\n",
    "(Taken from Artstein, 2017)\n"
   ]
  },
  {
   "cell_type": "markdown",
   "metadata": {
    "slideshow": {
     "slide_type": "subslide"
    }
   },
   "source": [
    "# Iterative reliability testing\n",
    "\n",
    "![title](./img/iterative-reliability-testing2.png)"
   ]
  },
  {
   "cell_type": "markdown",
   "metadata": {
    "slideshow": {
     "slide_type": "subslide"
    }
   },
   "source": [
    "# How to measure reliability?\n",
    "\n",
    "Compute coefficients:\n",
    "- They measure the reliability of the annotations **over all annotators**\n",
    "- Measure agreement: Fleiss's $\\kappa$\n",
    "- Measure disagreement: Krippendorff's $\\alpha$\n",
    "\n",
    "Basic idea:\n",
    "- Measure amount of (dis)agreement above chance\n",
    "\n",
    "Drawback:\n",
    "- A single scalar value cannot capture complex patterns in data/process\n",
    "- fine grained anaylsis necessary\n"
   ]
  },
  {
   "cell_type": "markdown",
   "metadata": {
    "slideshow": {
     "slide_type": "subslide"
    }
   },
   "source": [
    "# Four factors of complications:\n",
    "\n",
    "- diversity in underlying data\n",
    "- similarities between labels\n",
    "- differences in the difficulty of individual items\n",
    "- differences between individual annotators and annotator populations"
   ]
  },
  {
   "cell_type": "markdown",
   "metadata": {
    "slideshow": {
     "slide_type": "skip"
    }
   },
   "source": [
    "# Example: Diversity in underlying data\n",
    "\n",
    "Heterogeneous data may comprise homogeneous subsets\n",
    "\n",
    "Example:\n",
    "- No correlation between weight and age of adult elephants\n",
    "- No correlation between weight and age of adult mice\n",
    "- Pool elephatns and mice together:\n",
    "  - Strong correlation between weight and age\n",
    "  - Elephants are both older and heavier than mice\n",
    "\n",
    "Annotatator agreement regarding weight:\n",
    "- Chance level agreement when looking only at mice or elephatns\n",
    "- Near perfect agreement when looking at both simultaneously\n",
    "- Annotators cannot differentiate elephants from elephants\n",
    "- Annotators cannot differentiate mice from mice\n",
    "- Annotators can differentiate elephants from mice"
   ]
  },
  {
   "cell_type": "markdown",
   "metadata": {
    "slideshow": {
     "slide_type": "skip"
    }
   },
   "source": [
    "# Example: Diversity in underlying data\n",
    "\n",
    "Heterogeneous data may comprise homogeneous subsets\n",
    "\n",
    "Example:\n",
    "- Annotate weight of adult **elephants**\n",
    "  - Does it correlate with their age? NO\n",
    "- Annotate weight of adult **mice**\n",
    "  - Does it correlate with their age? NO\n",
    "- Annotate weight of adult **elephants** and adult **mice**\n",
    "  - Does it correlate with their age? YES strongly\n",
    "  - Elephants are both older and heavier than mice\n",
    "\n",
    "Problem:\n",
    "- Annotators cannot differentiate elephants from elephants\n",
    "- Annotators cannot differentiate mice from mice\n",
    "\n",
    "Look at homogeneous subsets of the data."
   ]
  },
  {
   "cell_type": "markdown",
   "metadata": {
    "slideshow": {
     "slide_type": "subslide"
    }
   },
   "source": [
    "# Take-away: iterative reliability testing\n",
    "\n",
    "- Be careful when assessing reliability\n",
    "- Investigate different aspects of your data/your annotation process"
   ]
  },
  {
   "cell_type": "markdown",
   "metadata": {
    "slideshow": {
     "slide_type": "slide"
    }
   },
   "source": [
    "# Summary\n",
    "\n",
    "We talked about:\n",
    "- 2 approaches to iteratively create reliable annotations\n",
    "- Active learning with BSC (SiGu, 2019):\n",
    "  - Annotator models (likelihood functions)\n",
    "  - Bayesian Sequence Combination (BSC)\n",
    "  - Results of the aggregation task\n",
    "- Iterative reliability testing (Artstein, 2017):\n",
    "  - Agreement coefficients\n",
    "  - Complications when measuring inter-annotator agreement\n"
   ]
  },
  {
   "cell_type": "markdown",
   "metadata": {
    "slideshow": {
     "slide_type": "subslide"
    }
   },
   "source": [
    "# Summary\n",
    "\n",
    "# Iterative reliability testing\n",
    "\n",
    "![title](./img/iterative-reliability-testing2.png)"
   ]
  },
  {
   "cell_type": "markdown",
   "metadata": {
    "slideshow": {
     "slide_type": "subslide"
    }
   },
   "source": [
    "# Summary\n",
    "\n",
    "# Active learning with BSC\n",
    "\n",
    "![title](./img/active-learning.png)"
   ]
  },
  {
   "cell_type": "markdown",
   "metadata": {
    "slideshow": {
     "slide_type": "slide"
    }
   },
   "source": [
    "# BACKUP Inter-annotator agreement  (Artstein, 2017)"
   ]
  },
  {
   "cell_type": "markdown",
   "metadata": {
    "slideshow": {
     "slide_type": "subslide"
    }
   },
   "source": [
    "# Measure inter-annotator agreement\n",
    "\n",
    "- compute single coefficient\n",
    "\n",
    "- raw/observed agreement: \n",
    "  - for 2 annotators, count number of identical labels\n",
    "  - divide by number of all items to be annotated\n",
    " \n",
    "\n",
    "- Problem:\n",
    "  - accidental agreement\n",
    "  - Example: gene sequences\n"
   ]
  },
  {
   "cell_type": "markdown",
   "metadata": {
    "slideshow": {
     "slide_type": "subslide"
    }
   },
   "source": [
    "### Measure inter-annotator agreement\n",
    "- better: measure amount of agreement above chance\n",
    "- $A_o$: amount of observed inter-annotator agreement\n",
    "- $A_e$: amount of inter-annotator agreement expected by random coding model\n",
    "- $A_o - A_e$: amount of agreement above chance\n",
    "- $1 - A_e$: maximal agreement\n",
    "\n",
    "$\n",
    "\\begin{align}\n",
    "\\kappa, \\pi, ... = \\frac{A_o - A_e}{1 - A_e}\n",
    "\\end{align}\n",
    "$"
   ]
  },
  {
   "cell_type": "markdown",
   "metadata": {
    "slideshow": {
     "slide_type": "subslide"
    }
   },
   "source": [
    "# Measure inter-annotator agreement\n",
    "\n",
    "Other approach: measure disagreement\n",
    "\n",
    "- $D_o = 1 - A_o$\n",
    "- $D_e = 1 - A_e$\n",
    "\n",
    "$\n",
    "\\begin{align}\n",
    "\\alpha = 1 - \\frac{D_o}{D_e}\n",
    "\\end{align}\n",
    "$\n",
    "\n",
    "Advantage: allows to express disagreement in other units than percentages"
   ]
  },
  {
   "cell_type": "markdown",
   "metadata": {
    "slideshow": {
     "slide_type": "subslide"
    }
   },
   "source": [
    "# Concrete Coefficients: observed (dis)agreement\n",
    "- Fleiss's $\\kappa$\n",
    "- Krippendorff's $\\alpha$\n",
    "\n",
    "They differ the way they compute observed agreement/expected random agreement.\n",
    "\n",
    "- Fleiss's $\\kappa$:\n",
    "  - observed agreement\n",
    "  - similar to raw agreement\n",
    "  - all disagreement are treated equally\n",
    "- Krippendorff's $\\alpha$:\n",
    "  - observed disagreement\n",
    "  - distance function per pair of labels\n",
    "  - scales the disagreement \n"
   ]
  },
  {
   "cell_type": "markdown",
   "metadata": {
    "slideshow": {
     "slide_type": "subslide"
    }
   },
   "source": [
    "### Concrete Coefficients: expected agreement\n",
    "- Fleiss's $\\kappa$\n",
    "- Krippendorff's $\\alpha$\n",
    "\n",
    "They differ the way they compute observed agreement/expected random agreement.\n",
    "\n",
    "- Fleiss's $\\kappa$:\n",
    "  - similar to raw agreement\n",
    "  - all disagreements are treated equally\n",
    "- Krippendorff's $\\alpha$:\n",
    "  - distance function per pair of labels\n",
    "  - scales the disagreement"
   ]
  },
  {
   "cell_type": "markdown",
   "metadata": {
    "slideshow": {
     "slide_type": "subslide"
    }
   },
   "source": [
    "### Problem of single coefficient\n",
    "\n",
    "- cannot capture complex aspects of the annotation process\n",
    "- fine grained anaylsis necessary\n",
    "\n",
    "Four factors of complications:\n",
    "- diversity in underlying data\n",
    "- similarities between labels\n",
    "- differences in the difficulty of individual items\n",
    "- differences between individual annotators and annotator populations"
   ]
  },
  {
   "cell_type": "markdown",
   "metadata": {
    "slideshow": {
     "slide_type": "subslide"
    }
   },
   "source": [
    "### Diversity in the underlying data\n",
    "\"When studying annotation of heterogeneous data, \n",
    "agreement should be calculated and reported for \n",
    "the homogeneous subparts of the data, in \n",
    "addition to the data as a whole.\"\n",
    "\n",
    "(Artstein, 2017)"
   ]
  },
  {
   "cell_type": "markdown",
   "metadata": {
    "slideshow": {
     "slide_type": "subslide"
    }
   },
   "source": [
    "### Similarities between the labels\n",
    "“When annotation labels have an internal structure, \n",
    "it may be acceptable to calculate agreement on \n",
    "different aspects of the same annotation. This is \n",
    "justified when the different aspects reflect separate \n",
    "and distinct decisions made by the annotators, thus \n",
    "reflecting different facets of a complex annotation process.”\n",
    "\n",
    "(Artstein, 2017)\n"
   ]
  },
  {
   "cell_type": "markdown",
   "metadata": {
    "slideshow": {
     "slide_type": "subslide"
    }
   },
   "source": [
    "### Differences in the difficulty of individual items\n",
    "\"To identify the extent of individual item difficulty, it is recommended to conduct a reliability study with multiple annotators.\"\n",
    "\n",
    "(Artstein, 2017)\n"
   ]
  },
  {
   "cell_type": "markdown",
   "metadata": {
    "slideshow": {
     "slide_type": "subslide"
    }
   },
   "source": [
    "### Differences between annotators/annot. populations\n",
    "\n",
    "\"In a reliability study with more than two annotators, \n",
    "differences between the annotators should be investigated \n",
    "by calculating agreement among subgroups of annotators.\"\n",
    "\n",
    "(Artstein, 2017)"
   ]
  },
  {
   "cell_type": "markdown",
   "metadata": {
    "slideshow": {
     "slide_type": "slide"
    }
   },
   "source": [
    "# BACKUP Annotator models"
   ]
  },
  {
   "cell_type": "markdown",
   "metadata": {
    "slideshow": {
     "slide_type": "subslide"
    }
   },
   "source": [
    "# Accuracy model (acc)\n",
    "\n",
    "Basic idea:\n",
    "- For every annotator, there is a single accuracy parameter $\\pi$\n",
    "\n",
    "\\begin{align}\n",
    "A = p(c_\\tau = i \\mid t_\\tau = j) = \\begin{cases}\n",
    "    \\pi , & \\text{where $i = j$}\\\\\n",
    "    \\frac{1 - \\pi}{J - 1}, & \\text{otherwise}\n",
    "  \\end{cases}\n",
    "\\end{align}\n",
    "\n",
    "Problem: \n",
    "- Spammer can select the most common label\n",
    "- Results in high accuracy"
   ]
  },
  {
   "cell_type": "markdown",
   "metadata": {
    "slideshow": {
     "slide_type": "subslide"
    }
   },
   "source": [
    "# Spamming model (spam)\n",
    "\n",
    "Basic idea:\n",
    "- For every annotator, there is a single accuracy parameter $\\pi$\n",
    "- If annotator is incorrect: assign label according to \"spamming distribution\"\n",
    "- $J+1$ parameters\n",
    "\n",
    "\\begin{align}\n",
    "A = p(c_\\tau = i \\mid t_\\tau = j ,\\xi) = \\begin{cases}\n",
    "    \\pi + (1 - \\pi)\\xi_j, & \\text{where $i = j$}\\\\\n",
    "    (1 - \\pi)\\xi_j, & \\text{otherwise}\n",
    "  \\end{cases}\n",
    "\\end{align}\n",
    "\n",
    "Problem:\n",
    "- no explicit error rate per class"
   ]
  },
  {
   "cell_type": "markdown",
   "metadata": {
    "slideshow": {
     "slide_type": "subslide"
    }
   },
   "source": [
    "# Confusion vector (CV)\n",
    "\n",
    "Basic idea:\n",
    "- separate accuracy per class label\n",
    "- parameter vector (instead of scalar value)\n",
    "- $J$ parameters\n",
    "\n",
    "\\begin{align}\n",
    "A = p(c_\\tau = i \\mid t_\\tau = j ,\\pi) = \\begin{cases}\n",
    "    \\pi_j, & \\text{where $i = j$}\\\\\n",
    "    \\frac{1 - \\pi_j}{J - 1}, & \\text{otherwise}\n",
    "  \\end{cases}\n",
    "\\end{align}\n",
    "\n",
    "Problem:\n",
    "- if spammer always chooses an incorrect label that has a much higher likelihood\n",
    "- cannot capture this pattern"
   ]
  }
 ],
 "metadata": {
  "celltoolbar": "Slideshow",
  "kernelspec": {
   "display_name": "Python 3",
   "language": "python",
   "name": "python3"
  },
  "language_info": {
   "codemirror_mode": {
    "name": "ipython",
    "version": 3
   },
   "file_extension": ".py",
   "mimetype": "text/x-python",
   "name": "python",
   "nbconvert_exporter": "python",
   "pygments_lexer": "ipython3",
   "version": "3.6.5"
  }
 },
 "nbformat": 4,
 "nbformat_minor": 2
}
