{
 "cells": [
  {
   "cell_type": "markdown",
   "metadata": {
    "slideshow": {
     "slide_type": "slide"
    }
   },
   "source": [
    "Motivation: what's the problem?\n"
   ]
  },
  {
   "cell_type": "markdown",
   "metadata": {
    "slideshow": {
     "slide_type": "subslide"
    }
   },
   "source": [
    "### Sequence Tagging aka. Sequence Labeling\n",
    "\n",
    "It's an _annotation task_\n",
    "\n",
    "\"sequence labeling is a type of pattern recognition task that involves the algorithmic assignment of a categorical label to each member of a sequence of observed values.\" [1]\n",
    "\n",
    "\n",
    "### Prototypical annotation task:\n",
    "\"[...] annotators assign labels to specific items (words, segments etc.) in the source.\" [2]\n",
    "\n",
    "### Assumption:\n",
    "- BIO annotation scheme:\n",
    "  - beginning\n",
    "  - inside\n",
    "  - outside\n",
    "\n",
    "[1] https://en.wikipedia.org/wiki/Sequence_labeling <br/>\n",
    "[2] Artstein, 2017"
   ]
  },
  {
   "cell_type": "markdown",
   "metadata": {
    "slideshow": {
     "slide_type": "subslide"
    }
   },
   "source": [
    "![title](./img/generative-approach.png)\n"
   ]
  },
  {
   "cell_type": "markdown",
   "metadata": {
    "slideshow": {
     "slide_type": "subslide"
    }
   },
   "source": [
    "### Problem with deep learning approaches:\n",
    "- data intensive: ten thousands (and more) labelled documents for training\n",
    "- new tasks/new domains: labelling is time consuming/costly (pay experts)\n",
    "\n",
    "### Solution:\n",
    "- crowdsourcing: large number of untrained workers annotate documents\n",
    "\n",
    "### New problem:\n",
    "- multiple sequences of unreliable labels per document"
   ]
  },
  {
   "cell_type": "markdown",
   "metadata": {
    "slideshow": {
     "slide_type": "slide"
    }
   },
   "source": [
    "Method / Approach: how do the authors propose to solve the problem? (If deep Learning is not involved, how could one do Deep Learning to solve it?)\n",
    "\n"
   ]
  },
  {
   "cell_type": "markdown",
   "metadata": {
    "slideshow": {
     "slide_type": "subslide"
    }
   },
   "source": [
    "### Contributions\n",
    "Bayesian Sequence Combination (BSC)\n",
    "- “fully-Bayesian method for aggregating sequence labels from multiple annotators”\n",
    "\n",
    "Sequential Confusion Matrix (seq)\n",
    "- “model sequential dependencies between annotators’ labels”\n",
    "\n",
    "Theoretical comparison of probabilistic models\n",
    "- annotator noise and annotator bias\n",
    "\n",
    "Empirical evaluation\n",
    "- three sequence labelling tasks\n"
   ]
  },
  {
   "cell_type": "markdown",
   "metadata": {
    "slideshow": {
     "slide_type": "subslide"
    }
   },
   "source": [
    "### Probabilistic annotator models\n",
    "\n",
    "Goal: improve performance through probabilistic model of individual noise/bias\n",
    "\n",
    "Define likelihood function: annotator chooses label $c_\\tau$ given true label $t_\\tau$\n",
    "\n",
    "Four existing probabilistic annotator models:\n",
    "- Accuracy model (acc)\n",
    "- Spamming model (spam)\n",
    "- Confusion vector (CV)\n",
    "- Confusion matrix (CM)\n",
    "\n",
    "New model:\n",
    "- Sequential confusion matrix (seq)\n"
   ]
  },
  {
   "cell_type": "markdown",
   "metadata": {},
   "source": [
    "### Accuracy model (acc)\n",
    "\n",
    "Basic idea:\n",
    "- For every annotator, there is a single accuracy parameter $\\pi$\n",
    "\n",
    "Problem: \n",
    "- Spammer can select the most common label\n",
    "- Results in high accuracy\n"
   ]
  },
  {
   "cell_type": "markdown",
   "metadata": {
    "slideshow": {
     "slide_type": "subslide"
    }
   },
   "source": [
    "### Spamming model (spam)\n",
    "\n",
    "Basic idea:\n",
    "- For every annotator, there is a single accuracy parameter $\\pi$\n",
    "- If annotator is incorrect: assign label according to \"spamming distribution\"\n",
    "- $J+1$ parameters\n",
    "\n",
    "Problem:\n",
    "- no explicit error rate per class\n",
    "- "
   ]
  },
  {
   "cell_type": "markdown",
   "metadata": {
    "slideshow": {
     "slide_type": "subslide"
    }
   },
   "source": [
    "### Confusion vector (CV)\n",
    "\n",
    "Basic idea:\n",
    "- separate accuracy per class label\n",
    "- parameter vector (instead of scalar value)\n",
    "- $J$ parameters\n",
    "\n",
    "Problem:\n",
    "- if spammer always chooses an incorrect label that has a much higher likelihood\n",
    "- cannot capture this pattern"
   ]
  },
  {
   "cell_type": "markdown",
   "metadata": {
    "slideshow": {
     "slide_type": "subslide"
    }
   },
   "source": [
    "### Confusion matrix (CM)\n",
    "\n",
    "Basic idea:\n",
    "- extension of confusion vector\n",
    "- $J^2$ parameters\n",
    "- capture spammers\n",
    "- capture different error rates and biases per class\n",
    "\n",
    "Problem:\n",
    "- does not model dependencies within a sequence"
   ]
  },
  {
   "cell_type": "markdown",
   "metadata": {
    "slideshow": {
     "slide_type": "subslide"
    }
   },
   "source": [
    "### Sequential confusion matrix (seq)\n",
    "\n",
    "Basic idea:\n",
    "- extension of confusion matrix\n",
    "- includes dependency of a label on its predecessor\n",
    "- $J^3$ parameters\n",
    "- disallowed transitions: a priori near zero likelihood\n",
    "\n",
    "Advantages:\n",
    "- can model tendency towards overly long sequences\n",
    "- can model tendency to split spans\n"
   ]
  },
  {
   "cell_type": "markdown",
   "metadata": {
    "slideshow": {
     "slide_type": "slide"
    }
   },
   "source": [
    "### Generative model\n",
    "\n",
    "BSC: Bayesian sequence combination\n",
    "\n",
    "Goal: aggregate sequential annotations \n",
    "\n",
    "Idea/steps:\n",
    "- define HMM \n",
    "  - given transition matrix and obersvation likelihoods\n",
    "  - assume Dirichlet priors\n",
    "- take annotator model function for each of annotator\n",
    "- annotator model defines categorical likelihood over each annotation\n",
    "- assumption: annotators are independent, errors uncorrelated\n"
   ]
  },
  {
   "cell_type": "markdown",
   "metadata": {
    "slideshow": {
     "slide_type": "slide"
    }
   },
   "source": [
    "Resources: which data is used? (Give examples and statistics)\n"
   ]
  },
  {
   "cell_type": "markdown",
   "metadata": {
    "slideshow": {
     "slide_type": "slide"
    }
   },
   "source": [
    "Experiments: which experiments and analyses are conducted? Are the results useful for the humanities?\n"
   ]
  },
  {
   "cell_type": "markdown",
   "metadata": {
    "slideshow": {
     "slide_type": "slide"
    }
   },
   "source": [
    "Conclusion\n"
   ]
  },
  {
   "cell_type": "markdown",
   "metadata": {
    "slideshow": {
     "slide_type": "slide"
    }
   },
   "source": []
  }
 ],
 "metadata": {
  "celltoolbar": "Slideshow",
  "kernelspec": {
   "display_name": "Python 3",
   "language": "python",
   "name": "python3"
  },
  "language_info": {
   "codemirror_mode": {
    "name": "ipython",
    "version": 3
   },
   "file_extension": ".py",
   "mimetype": "text/x-python",
   "name": "python",
   "nbconvert_exporter": "python",
   "pygments_lexer": "ipython3",
   "version": "3.6.5"
  }
 },
 "nbformat": 4,
 "nbformat_minor": 2
}
